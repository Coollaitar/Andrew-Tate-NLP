{
 "cells": [
  {
   "cell_type": "markdown",
   "id": "a82a0418",
   "metadata": {},
   "source": [
    "# <font color='green'>Import</font> Libraries"
   ]
  },
  {
   "cell_type": "code",
   "execution_count": 130,
   "id": "6a929e69",
   "metadata": {},
   "outputs": [],
   "source": [
    "import tweepy\n",
    "import numpy as np\n",
    "import pandas as pd\n",
    "import matplotlib.pyplot as plt\n",
    "from textblob import TextBlob \n",
    "from tweepy import API\n",
    "from tweepy import Cursor\n",
    "from tweepy import OAuthHandler\n",
    "import json\n",
    "import datetime\n",
    "import re\n",
    "import seaborn as sns\n",
    "import nltk\n",
    "import warnings\n",
    "warnings.filterwarnings('always')  # \"error\", \"ignore\", \"always\", \"default\", \"module\" or \"once\""
   ]
  },
  {
   "cell_type": "markdown",
   "id": "262b3b72",
   "metadata": {},
   "source": [
    "# <font color='red'>Store</font> API Keys "
   ]
  },
  {
   "cell_type": "code",
   "execution_count": 131,
   "id": "850cdf25",
   "metadata": {},
   "outputs": [],
   "source": [
    "df = pd.read_csv('API_SET1.csv')"
   ]
  },
  {
   "cell_type": "code",
   "execution_count": 132,
   "id": "a666cde5",
   "metadata": {},
   "outputs": [],
   "source": [
    "TwitterApiKey=df[\"Twitter_Api_Key\"][0]\n",
    "TwitterApiSecret=df[\"Twitter_Api_Secret_Key\"][0]\n",
    "TwitterApiAccessToken=df[\"Twitter_Api_access_token\"][0]\n",
    "TwitterApiSecretToken=df[\"Twitter_Api_secret_access_token\"][0]"
   ]
  },
  {
   "cell_type": "code",
   "execution_count": 133,
   "id": "abb68656",
   "metadata": {
    "scrolled": true
   },
   "outputs": [
    {
     "name": "stderr",
     "output_type": "stream",
     "text": [
      "C:\\Users\\aadit\\anaconda3\\lib\\site-packages\\tweepy\\auth.py:120: DeprecationWarning: OAuthHandler is deprecated; use OAuth1UserHandler instead.\n",
      "  warnings.warn(\n"
     ]
    }
   ],
   "source": [
    "auth=tweepy.OAuthHandler(TwitterApiKey,TwitterApiSecret)\n",
    "auth.set_access_token(TwitterApiAccessToken,TwitterApiSecretToken)\n",
    "twitterApi=tweepy.API(auth,wait_on_rate_limit=True)"
   ]
  },
  {
   "cell_type": "markdown",
   "id": "34b25e2e",
   "metadata": {},
   "source": [
    "# <font color='blue'>Selection</font> of Twitter Account"
   ]
  },
  {
   "cell_type": "code",
   "execution_count": 134,
   "id": "4982d73e",
   "metadata": {},
   "outputs": [],
   "source": [
    "twitterAccount = \"@CobraTateKING\""
   ]
  },
  {
   "cell_type": "code",
   "execution_count": 135,
   "id": "f70c30cb",
   "metadata": {},
   "outputs": [],
   "source": [
    "tweets=tweepy.Cursor(twitterApi.user_timeline,\n",
    "                    screen_name=twitterAccount,\n",
    "                    count=None,\n",
    "                    since_id=None,\n",
    "                    max_id=None,trim_user=True,exclude_replies=True,contributor_details=False,\n",
    "                    include_entities=False).items(50);"
   ]
  },
  {
   "cell_type": "markdown",
   "id": "bc98b719",
   "metadata": {},
   "source": [
    "# <font color='red'>Converted</font> Tweets into DataFrame"
   ]
  },
  {
   "cell_type": "code",
   "execution_count": 136,
   "id": "d3a8aea8",
   "metadata": {},
   "outputs": [
    {
     "name": "stderr",
     "output_type": "stream",
     "text": [
      "Unexpected parameter: contributor_details\n",
      "Unexpected parameter: include_entities\n",
      "Unexpected parameter: contributor_details\n",
      "Unexpected parameter: include_entities\n",
      "Unexpected parameter: contributor_details\n",
      "Unexpected parameter: include_entities\n",
      "Unexpected parameter: contributor_details\n",
      "Unexpected parameter: include_entities\n"
     ]
    }
   ],
   "source": [
    "df=pd.DataFrame(data=[tweet.text for tweet in tweets],columns=[\"Tweets\"])"
   ]
  },
  {
   "cell_type": "code",
   "execution_count": 137,
   "id": "19c44ac3",
   "metadata": {
    "scrolled": true
   },
   "outputs": [
    {
     "data": {
      "text/html": [
       "<div>\n",
       "<style scoped>\n",
       "    .dataframe tbody tr th:only-of-type {\n",
       "        vertical-align: middle;\n",
       "    }\n",
       "\n",
       "    .dataframe tbody tr th {\n",
       "        vertical-align: top;\n",
       "    }\n",
       "\n",
       "    .dataframe thead th {\n",
       "        text-align: right;\n",
       "    }\n",
       "</style>\n",
       "<table border=\"1\" class=\"dataframe\">\n",
       "  <thead>\n",
       "    <tr style=\"text-align: right;\">\n",
       "      <th></th>\n",
       "      <th>Tweets</th>\n",
       "    </tr>\n",
       "  </thead>\n",
       "  <tbody>\n",
       "    <tr>\n",
       "      <th>0</th>\n",
       "      <td>Life’s simple. You make choices and you don’t ...</td>\n",
       "    </tr>\n",
       "    <tr>\n",
       "      <th>1</th>\n",
       "      <td>Life is Beautiful outside the Matrix.\\n\\nhttps...</td>\n",
       "    </tr>\n",
       "    <tr>\n",
       "      <th>2</th>\n",
       "      <td>Brotherhood is our most precious possession. h...</td>\n",
       "    </tr>\n",
       "    <tr>\n",
       "      <th>3</th>\n",
       "      <td>As soon as you are granted life,\\n\\nYou are gu...</td>\n",
       "    </tr>\n",
       "    <tr>\n",
       "      <th>4</th>\n",
       "      <td>Rules are for the Poor. https://t.co/Ln50iVJL7Z</td>\n",
       "    </tr>\n",
       "    <tr>\n",
       "      <th>5</th>\n",
       "      <td>Put yourself on as many grids as possible. htt...</td>\n",
       "    </tr>\n",
       "    <tr>\n",
       "      <th>6</th>\n",
       "      <td>Seeds of doubt grow into forests of inaction. ...</td>\n",
       "    </tr>\n",
       "    <tr>\n",
       "      <th>7</th>\n",
       "      <td>RT @Talismanthetate: Best idea. https://t.co/O...</td>\n",
       "    </tr>\n",
       "    <tr>\n",
       "      <th>8</th>\n",
       "      <td>A man without a vision for his future always r...</td>\n",
       "    </tr>\n",
       "    <tr>\n",
       "      <th>9</th>\n",
       "      <td>I only know how to win. \\n\\nI’ve never tried l...</td>\n",
       "    </tr>\n",
       "  </tbody>\n",
       "</table>\n",
       "</div>"
      ],
      "text/plain": [
       "                                              Tweets\n",
       "0  Life’s simple. You make choices and you don’t ...\n",
       "1  Life is Beautiful outside the Matrix.\\n\\nhttps...\n",
       "2  Brotherhood is our most precious possession. h...\n",
       "3  As soon as you are granted life,\\n\\nYou are gu...\n",
       "4    Rules are for the Poor. https://t.co/Ln50iVJL7Z\n",
       "5  Put yourself on as many grids as possible. htt...\n",
       "6  Seeds of doubt grow into forests of inaction. ...\n",
       "7  RT @Talismanthetate: Best idea. https://t.co/O...\n",
       "8  A man without a vision for his future always r...\n",
       "9  I only know how to win. \\n\\nI’ve never tried l..."
      ]
     },
     "execution_count": 137,
     "metadata": {},
     "output_type": "execute_result"
    }
   ],
   "source": [
    "df.head(10)"
   ]
  },
  {
   "cell_type": "markdown",
   "id": "bd5213a6",
   "metadata": {},
   "source": [
    "# Text Cleaning"
   ]
  },
  {
   "cell_type": "code",
   "execution_count": 138,
   "id": "1c3bf6c2",
   "metadata": {},
   "outputs": [],
   "source": [
    "def cleanupTweet(txt):\n",
    "    txt = re.sub(r'@[A-Za-z0-9_]+','',txt)\n",
    "    txt = re.sub(r'#','',txt)\n",
    "    txt = re.sub(r'RT :','',txt)\n",
    "    txt = re.sub(r'https?:\\/\\/[A-Za-z0-9\\.\\/]+','',txt)\n",
    "    return txt"
   ]
  },
  {
   "cell_type": "code",
   "execution_count": 139,
   "id": "4e63c44b",
   "metadata": {},
   "outputs": [
    {
     "data": {
      "text/html": [
       "<div>\n",
       "<style scoped>\n",
       "    .dataframe tbody tr th:only-of-type {\n",
       "        vertical-align: middle;\n",
       "    }\n",
       "\n",
       "    .dataframe tbody tr th {\n",
       "        vertical-align: top;\n",
       "    }\n",
       "\n",
       "    .dataframe thead th {\n",
       "        text-align: right;\n",
       "    }\n",
       "</style>\n",
       "<table border=\"1\" class=\"dataframe\">\n",
       "  <thead>\n",
       "    <tr style=\"text-align: right;\">\n",
       "      <th></th>\n",
       "      <th>Tweets</th>\n",
       "    </tr>\n",
       "  </thead>\n",
       "  <tbody>\n",
       "    <tr>\n",
       "      <th>0</th>\n",
       "      <td>Life’s simple. You make choices and you don’t ...</td>\n",
       "    </tr>\n",
       "    <tr>\n",
       "      <th>1</th>\n",
       "      <td>Life is Beautiful outside the Matrix.\\n\\nhttps...</td>\n",
       "    </tr>\n",
       "    <tr>\n",
       "      <th>2</th>\n",
       "      <td>Brotherhood is our most precious possession. h...</td>\n",
       "    </tr>\n",
       "    <tr>\n",
       "      <th>3</th>\n",
       "      <td>As soon as you are granted life,\\n\\nYou are gu...</td>\n",
       "    </tr>\n",
       "    <tr>\n",
       "      <th>4</th>\n",
       "      <td>Rules are for the Poor. https://t.co/Ln50iVJL7Z</td>\n",
       "    </tr>\n",
       "    <tr>\n",
       "      <th>5</th>\n",
       "      <td>Put yourself on as many grids as possible. htt...</td>\n",
       "    </tr>\n",
       "    <tr>\n",
       "      <th>6</th>\n",
       "      <td>Seeds of doubt grow into forests of inaction. ...</td>\n",
       "    </tr>\n",
       "    <tr>\n",
       "      <th>7</th>\n",
       "      <td>RT @Talismanthetate: Best idea. https://t.co/O...</td>\n",
       "    </tr>\n",
       "    <tr>\n",
       "      <th>8</th>\n",
       "      <td>A man without a vision for his future always r...</td>\n",
       "    </tr>\n",
       "    <tr>\n",
       "      <th>9</th>\n",
       "      <td>I only know how to win. \\n\\nI’ve never tried l...</td>\n",
       "    </tr>\n",
       "  </tbody>\n",
       "</table>\n",
       "</div>"
      ],
      "text/plain": [
       "                                              Tweets\n",
       "0  Life’s simple. You make choices and you don’t ...\n",
       "1  Life is Beautiful outside the Matrix.\\n\\nhttps...\n",
       "2  Brotherhood is our most precious possession. h...\n",
       "3  As soon as you are granted life,\\n\\nYou are gu...\n",
       "4    Rules are for the Poor. https://t.co/Ln50iVJL7Z\n",
       "5  Put yourself on as many grids as possible. htt...\n",
       "6  Seeds of doubt grow into forests of inaction. ...\n",
       "7  RT @Talismanthetate: Best idea. https://t.co/O...\n",
       "8  A man without a vision for his future always r...\n",
       "9  I only know how to win. \\n\\nI’ve never tried l..."
      ]
     },
     "execution_count": 139,
     "metadata": {},
     "output_type": "execute_result"
    }
   ],
   "source": [
    "df.head(10)"
   ]
  },
  {
   "cell_type": "code",
   "execution_count": 140,
   "id": "7787135e",
   "metadata": {},
   "outputs": [],
   "source": [
    "df['Tweet'] = df['Tweets'].apply(cleanupTweet)"
   ]
  },
  {
   "cell_type": "code",
   "execution_count": 141,
   "id": "16c52455",
   "metadata": {
    "scrolled": true
   },
   "outputs": [
    {
     "data": {
      "text/html": [
       "<div>\n",
       "<style scoped>\n",
       "    .dataframe tbody tr th:only-of-type {\n",
       "        vertical-align: middle;\n",
       "    }\n",
       "\n",
       "    .dataframe tbody tr th {\n",
       "        vertical-align: top;\n",
       "    }\n",
       "\n",
       "    .dataframe thead th {\n",
       "        text-align: right;\n",
       "    }\n",
       "</style>\n",
       "<table border=\"1\" class=\"dataframe\">\n",
       "  <thead>\n",
       "    <tr style=\"text-align: right;\">\n",
       "      <th></th>\n",
       "      <th>Tweets</th>\n",
       "      <th>Tweet</th>\n",
       "    </tr>\n",
       "  </thead>\n",
       "  <tbody>\n",
       "    <tr>\n",
       "      <th>0</th>\n",
       "      <td>Life’s simple. You make choices and you don’t ...</td>\n",
       "      <td>Life’s simple. You make choices and you don’t ...</td>\n",
       "    </tr>\n",
       "    <tr>\n",
       "      <th>1</th>\n",
       "      <td>Life is Beautiful outside the Matrix.\\n\\nhttps...</td>\n",
       "      <td>Life is Beautiful outside the Matrix.\\n\\n</td>\n",
       "    </tr>\n",
       "    <tr>\n",
       "      <th>2</th>\n",
       "      <td>Brotherhood is our most precious possession. h...</td>\n",
       "      <td>Brotherhood is our most precious possession.</td>\n",
       "    </tr>\n",
       "    <tr>\n",
       "      <th>3</th>\n",
       "      <td>As soon as you are granted life,\\n\\nYou are gu...</td>\n",
       "      <td>As soon as you are granted life,\\n\\nYou are gu...</td>\n",
       "    </tr>\n",
       "    <tr>\n",
       "      <th>4</th>\n",
       "      <td>Rules are for the Poor. https://t.co/Ln50iVJL7Z</td>\n",
       "      <td>Rules are for the Poor.</td>\n",
       "    </tr>\n",
       "  </tbody>\n",
       "</table>\n",
       "</div>"
      ],
      "text/plain": [
       "                                              Tweets  \\\n",
       "0  Life’s simple. You make choices and you don’t ...   \n",
       "1  Life is Beautiful outside the Matrix.\\n\\nhttps...   \n",
       "2  Brotherhood is our most precious possession. h...   \n",
       "3  As soon as you are granted life,\\n\\nYou are gu...   \n",
       "4    Rules are for the Poor. https://t.co/Ln50iVJL7Z   \n",
       "\n",
       "                                               Tweet  \n",
       "0  Life’s simple. You make choices and you don’t ...  \n",
       "1         Life is Beautiful outside the Matrix.\\n\\n   \n",
       "2      Brotherhood is our most precious possession.   \n",
       "3  As soon as you are granted life,\\n\\nYou are gu...  \n",
       "4                           Rules are for the Poor.   "
      ]
     },
     "execution_count": 141,
     "metadata": {},
     "output_type": "execute_result"
    }
   ],
   "source": [
    "df.head()"
   ]
  },
  {
   "cell_type": "markdown",
   "id": "e5bde7cb",
   "metadata": {},
   "source": [
    "# Text Subjectivity"
   ]
  },
  {
   "cell_type": "code",
   "execution_count": 142,
   "id": "880c2f8f",
   "metadata": {},
   "outputs": [],
   "source": [
    "def getTextSubjectivity(txt):\n",
    "    return TextBlob(txt).sentiment.subjectivity"
   ]
  },
  {
   "cell_type": "markdown",
   "id": "3d81c102",
   "metadata": {},
   "source": [
    "# Text Polarity"
   ]
  },
  {
   "cell_type": "code",
   "execution_count": 143,
   "id": "ec19ff73",
   "metadata": {},
   "outputs": [],
   "source": [
    "def getTextPolarity(txt):\n",
    "    return TextBlob(txt).sentiment.polarity"
   ]
  },
  {
   "cell_type": "markdown",
   "id": "1d144360",
   "metadata": {},
   "source": [
    "# Cleaned Tweets "
   ]
  },
  {
   "cell_type": "code",
   "execution_count": 144,
   "id": "19c3bedc",
   "metadata": {},
   "outputs": [],
   "source": [
    "df['Subjectivity'] = df['Tweets'].apply(getTextSubjectivity)"
   ]
  },
  {
   "cell_type": "code",
   "execution_count": 145,
   "id": "638ebe88",
   "metadata": {},
   "outputs": [],
   "source": [
    "df['Polarity'] = df['Tweets'].apply(getTextPolarity)"
   ]
  },
  {
   "cell_type": "code",
   "execution_count": 146,
   "id": "17d00e1f",
   "metadata": {
    "scrolled": true
   },
   "outputs": [
    {
     "data": {
      "text/html": [
       "<div>\n",
       "<style scoped>\n",
       "    .dataframe tbody tr th:only-of-type {\n",
       "        vertical-align: middle;\n",
       "    }\n",
       "\n",
       "    .dataframe tbody tr th {\n",
       "        vertical-align: top;\n",
       "    }\n",
       "\n",
       "    .dataframe thead th {\n",
       "        text-align: right;\n",
       "    }\n",
       "</style>\n",
       "<table border=\"1\" class=\"dataframe\">\n",
       "  <thead>\n",
       "    <tr style=\"text-align: right;\">\n",
       "      <th></th>\n",
       "      <th>Tweets</th>\n",
       "      <th>Tweet</th>\n",
       "      <th>Subjectivity</th>\n",
       "      <th>Polarity</th>\n",
       "    </tr>\n",
       "  </thead>\n",
       "  <tbody>\n",
       "    <tr>\n",
       "      <th>0</th>\n",
       "      <td>Life’s simple. You make choices and you don’t ...</td>\n",
       "      <td>Life’s simple. You make choices and you don’t ...</td>\n",
       "      <td>0.178571</td>\n",
       "      <td>0.000</td>\n",
       "    </tr>\n",
       "    <tr>\n",
       "      <th>1</th>\n",
       "      <td>Life is Beautiful outside the Matrix.\\n\\nhttps...</td>\n",
       "      <td>Life is Beautiful outside the Matrix.\\n\\n</td>\n",
       "      <td>0.525000</td>\n",
       "      <td>0.425</td>\n",
       "    </tr>\n",
       "    <tr>\n",
       "      <th>2</th>\n",
       "      <td>Brotherhood is our most precious possession. h...</td>\n",
       "      <td>Brotherhood is our most precious possession.</td>\n",
       "      <td>0.750000</td>\n",
       "      <td>0.500</td>\n",
       "    </tr>\n",
       "    <tr>\n",
       "      <th>3</th>\n",
       "      <td>As soon as you are granted life,\\n\\nYou are gu...</td>\n",
       "      <td>As soon as you are granted life,\\n\\nYou are gu...</td>\n",
       "      <td>0.000000</td>\n",
       "      <td>0.000</td>\n",
       "    </tr>\n",
       "    <tr>\n",
       "      <th>4</th>\n",
       "      <td>Rules are for the Poor. https://t.co/Ln50iVJL7Z</td>\n",
       "      <td>Rules are for the Poor.</td>\n",
       "      <td>0.600000</td>\n",
       "      <td>-0.400</td>\n",
       "    </tr>\n",
       "  </tbody>\n",
       "</table>\n",
       "</div>"
      ],
      "text/plain": [
       "                                              Tweets  \\\n",
       "0  Life’s simple. You make choices and you don’t ...   \n",
       "1  Life is Beautiful outside the Matrix.\\n\\nhttps...   \n",
       "2  Brotherhood is our most precious possession. h...   \n",
       "3  As soon as you are granted life,\\n\\nYou are gu...   \n",
       "4    Rules are for the Poor. https://t.co/Ln50iVJL7Z   \n",
       "\n",
       "                                               Tweet  Subjectivity  Polarity  \n",
       "0  Life’s simple. You make choices and you don’t ...      0.178571     0.000  \n",
       "1         Life is Beautiful outside the Matrix.\\n\\n       0.525000     0.425  \n",
       "2      Brotherhood is our most precious possession.       0.750000     0.500  \n",
       "3  As soon as you are granted life,\\n\\nYou are gu...      0.000000     0.000  \n",
       "4                           Rules are for the Poor.       0.600000    -0.400  "
      ]
     },
     "execution_count": 146,
     "metadata": {},
     "output_type": "execute_result"
    }
   ],
   "source": [
    "df.head()"
   ]
  },
  {
   "cell_type": "markdown",
   "id": "2d4603e4",
   "metadata": {},
   "source": [
    "# Sentiment Intensity Analyzer"
   ]
  },
  {
   "cell_type": "code",
   "execution_count": 147,
   "id": "947901eb",
   "metadata": {},
   "outputs": [],
   "source": [
    "from nltk.sentiment.vader import SentimentIntensityAnalyzer\n",
    "sid = SentimentIntensityAnalyzer()"
   ]
  },
  {
   "cell_type": "code",
   "execution_count": 148,
   "id": "56702c10",
   "metadata": {},
   "outputs": [
    {
     "data": {
      "text/html": [
       "<div>\n",
       "<style scoped>\n",
       "    .dataframe tbody tr th:only-of-type {\n",
       "        vertical-align: middle;\n",
       "    }\n",
       "\n",
       "    .dataframe tbody tr th {\n",
       "        vertical-align: top;\n",
       "    }\n",
       "\n",
       "    .dataframe thead th {\n",
       "        text-align: right;\n",
       "    }\n",
       "</style>\n",
       "<table border=\"1\" class=\"dataframe\">\n",
       "  <thead>\n",
       "    <tr style=\"text-align: right;\">\n",
       "      <th></th>\n",
       "      <th>Tweets</th>\n",
       "      <th>Tweet</th>\n",
       "      <th>Subjectivity</th>\n",
       "      <th>Polarity</th>\n",
       "    </tr>\n",
       "  </thead>\n",
       "  <tbody>\n",
       "    <tr>\n",
       "      <th>0</th>\n",
       "      <td>Life’s simple. You make choices and you don’t ...</td>\n",
       "      <td>Life’s simple. You make choices and you don’t ...</td>\n",
       "      <td>0.178571</td>\n",
       "      <td>{'neg': 0.0, 'neu': 1.0, 'pos': 0.0, 'compound...</td>\n",
       "    </tr>\n",
       "    <tr>\n",
       "      <th>1</th>\n",
       "      <td>Life is Beautiful outside the Matrix.\\n\\nhttps...</td>\n",
       "      <td>Life is Beautiful outside the Matrix.\\n\\n</td>\n",
       "      <td>0.525000</td>\n",
       "      <td>{'neg': 0.0, 'neu': 0.562, 'pos': 0.438, 'comp...</td>\n",
       "    </tr>\n",
       "    <tr>\n",
       "      <th>2</th>\n",
       "      <td>Brotherhood is our most precious possession. h...</td>\n",
       "      <td>Brotherhood is our most precious possession.</td>\n",
       "      <td>0.750000</td>\n",
       "      <td>{'neg': 0.0, 'neu': 0.556, 'pos': 0.444, 'comp...</td>\n",
       "    </tr>\n",
       "    <tr>\n",
       "      <th>3</th>\n",
       "      <td>As soon as you are granted life,\\n\\nYou are gu...</td>\n",
       "      <td>As soon as you are granted life,\\n\\nYou are gu...</td>\n",
       "      <td>0.000000</td>\n",
       "      <td>{'neg': 0.144, 'neu': 0.704, 'pos': 0.152, 'co...</td>\n",
       "    </tr>\n",
       "    <tr>\n",
       "      <th>4</th>\n",
       "      <td>Rules are for the Poor. https://t.co/Ln50iVJL7Z</td>\n",
       "      <td>Rules are for the Poor.</td>\n",
       "      <td>0.600000</td>\n",
       "      <td>{'neg': 0.437, 'neu': 0.563, 'pos': 0.0, 'comp...</td>\n",
       "    </tr>\n",
       "  </tbody>\n",
       "</table>\n",
       "</div>"
      ],
      "text/plain": [
       "                                              Tweets  \\\n",
       "0  Life’s simple. You make choices and you don’t ...   \n",
       "1  Life is Beautiful outside the Matrix.\\n\\nhttps...   \n",
       "2  Brotherhood is our most precious possession. h...   \n",
       "3  As soon as you are granted life,\\n\\nYou are gu...   \n",
       "4    Rules are for the Poor. https://t.co/Ln50iVJL7Z   \n",
       "\n",
       "                                               Tweet  Subjectivity  \\\n",
       "0  Life’s simple. You make choices and you don’t ...      0.178571   \n",
       "1         Life is Beautiful outside the Matrix.\\n\\n       0.525000   \n",
       "2      Brotherhood is our most precious possession.       0.750000   \n",
       "3  As soon as you are granted life,\\n\\nYou are gu...      0.000000   \n",
       "4                           Rules are for the Poor.       0.600000   \n",
       "\n",
       "                                            Polarity  \n",
       "0  {'neg': 0.0, 'neu': 1.0, 'pos': 0.0, 'compound...  \n",
       "1  {'neg': 0.0, 'neu': 0.562, 'pos': 0.438, 'comp...  \n",
       "2  {'neg': 0.0, 'neu': 0.556, 'pos': 0.444, 'comp...  \n",
       "3  {'neg': 0.144, 'neu': 0.704, 'pos': 0.152, 'co...  \n",
       "4  {'neg': 0.437, 'neu': 0.563, 'pos': 0.0, 'comp...  "
      ]
     },
     "execution_count": 148,
     "metadata": {},
     "output_type": "execute_result"
    }
   ],
   "source": [
    "df['Polarity'] = df['Tweet'].apply(lambda Tweet: sid.polarity_scores(Tweet))\n",
    "df.head()"
   ]
  },
  {
   "cell_type": "code",
   "execution_count": 149,
   "id": "df25ead7",
   "metadata": {},
   "outputs": [
    {
     "data": {
      "text/html": [
       "<div>\n",
       "<style scoped>\n",
       "    .dataframe tbody tr th:only-of-type {\n",
       "        vertical-align: middle;\n",
       "    }\n",
       "\n",
       "    .dataframe tbody tr th {\n",
       "        vertical-align: top;\n",
       "    }\n",
       "\n",
       "    .dataframe thead th {\n",
       "        text-align: right;\n",
       "    }\n",
       "</style>\n",
       "<table border=\"1\" class=\"dataframe\">\n",
       "  <thead>\n",
       "    <tr style=\"text-align: right;\">\n",
       "      <th></th>\n",
       "      <th>Tweets</th>\n",
       "      <th>Tweet</th>\n",
       "      <th>Subjectivity</th>\n",
       "      <th>Polarity</th>\n",
       "      <th>Compound</th>\n",
       "    </tr>\n",
       "  </thead>\n",
       "  <tbody>\n",
       "    <tr>\n",
       "      <th>0</th>\n",
       "      <td>Life’s simple. You make choices and you don’t ...</td>\n",
       "      <td>Life’s simple. You make choices and you don’t ...</td>\n",
       "      <td>0.178571</td>\n",
       "      <td>{'neg': 0.0, 'neu': 1.0, 'pos': 0.0, 'compound...</td>\n",
       "      <td>0.0000</td>\n",
       "    </tr>\n",
       "    <tr>\n",
       "      <th>1</th>\n",
       "      <td>Life is Beautiful outside the Matrix.\\n\\nhttps...</td>\n",
       "      <td>Life is Beautiful outside the Matrix.\\n\\n</td>\n",
       "      <td>0.525000</td>\n",
       "      <td>{'neg': 0.0, 'neu': 0.562, 'pos': 0.438, 'comp...</td>\n",
       "      <td>0.5994</td>\n",
       "    </tr>\n",
       "    <tr>\n",
       "      <th>2</th>\n",
       "      <td>Brotherhood is our most precious possession. h...</td>\n",
       "      <td>Brotherhood is our most precious possession.</td>\n",
       "      <td>0.750000</td>\n",
       "      <td>{'neg': 0.0, 'neu': 0.556, 'pos': 0.444, 'comp...</td>\n",
       "      <td>0.6115</td>\n",
       "    </tr>\n",
       "    <tr>\n",
       "      <th>3</th>\n",
       "      <td>As soon as you are granted life,\\n\\nYou are gu...</td>\n",
       "      <td>As soon as you are granted life,\\n\\nYou are gu...</td>\n",
       "      <td>0.000000</td>\n",
       "      <td>{'neg': 0.144, 'neu': 0.704, 'pos': 0.152, 'co...</td>\n",
       "      <td>-0.2023</td>\n",
       "    </tr>\n",
       "    <tr>\n",
       "      <th>4</th>\n",
       "      <td>Rules are for the Poor. https://t.co/Ln50iVJL7Z</td>\n",
       "      <td>Rules are for the Poor.</td>\n",
       "      <td>0.600000</td>\n",
       "      <td>{'neg': 0.437, 'neu': 0.563, 'pos': 0.0, 'comp...</td>\n",
       "      <td>-0.4767</td>\n",
       "    </tr>\n",
       "  </tbody>\n",
       "</table>\n",
       "</div>"
      ],
      "text/plain": [
       "                                              Tweets  \\\n",
       "0  Life’s simple. You make choices and you don’t ...   \n",
       "1  Life is Beautiful outside the Matrix.\\n\\nhttps...   \n",
       "2  Brotherhood is our most precious possession. h...   \n",
       "3  As soon as you are granted life,\\n\\nYou are gu...   \n",
       "4    Rules are for the Poor. https://t.co/Ln50iVJL7Z   \n",
       "\n",
       "                                               Tweet  Subjectivity  \\\n",
       "0  Life’s simple. You make choices and you don’t ...      0.178571   \n",
       "1         Life is Beautiful outside the Matrix.\\n\\n       0.525000   \n",
       "2      Brotherhood is our most precious possession.       0.750000   \n",
       "3  As soon as you are granted life,\\n\\nYou are gu...      0.000000   \n",
       "4                           Rules are for the Poor.       0.600000   \n",
       "\n",
       "                                            Polarity  Compound  \n",
       "0  {'neg': 0.0, 'neu': 1.0, 'pos': 0.0, 'compound...    0.0000  \n",
       "1  {'neg': 0.0, 'neu': 0.562, 'pos': 0.438, 'comp...    0.5994  \n",
       "2  {'neg': 0.0, 'neu': 0.556, 'pos': 0.444, 'comp...    0.6115  \n",
       "3  {'neg': 0.144, 'neu': 0.704, 'pos': 0.152, 'co...   -0.2023  \n",
       "4  {'neg': 0.437, 'neu': 0.563, 'pos': 0.0, 'comp...   -0.4767  "
      ]
     },
     "execution_count": 149,
     "metadata": {},
     "output_type": "execute_result"
    }
   ],
   "source": [
    "df['Compound'] = df['Polarity'].apply(lambda score_dict: score_dict['compound'])\n",
    "df.head()"
   ]
  },
  {
   "cell_type": "code",
   "execution_count": 150,
   "id": "accaf472",
   "metadata": {},
   "outputs": [
    {
     "data": {
      "text/html": [
       "<div>\n",
       "<style scoped>\n",
       "    .dataframe tbody tr th:only-of-type {\n",
       "        vertical-align: middle;\n",
       "    }\n",
       "\n",
       "    .dataframe tbody tr th {\n",
       "        vertical-align: top;\n",
       "    }\n",
       "\n",
       "    .dataframe thead th {\n",
       "        text-align: right;\n",
       "    }\n",
       "</style>\n",
       "<table border=\"1\" class=\"dataframe\">\n",
       "  <thead>\n",
       "    <tr style=\"text-align: right;\">\n",
       "      <th></th>\n",
       "      <th>Tweets</th>\n",
       "      <th>Tweet</th>\n",
       "      <th>Subjectivity</th>\n",
       "      <th>Polarity</th>\n",
       "      <th>Compound</th>\n",
       "      <th>comp_score</th>\n",
       "    </tr>\n",
       "  </thead>\n",
       "  <tbody>\n",
       "    <tr>\n",
       "      <th>0</th>\n",
       "      <td>Life’s simple. You make choices and you don’t ...</td>\n",
       "      <td>Life’s simple. You make choices and you don’t ...</td>\n",
       "      <td>0.178571</td>\n",
       "      <td>{'neg': 0.0, 'neu': 1.0, 'pos': 0.0, 'compound...</td>\n",
       "      <td>0.0000</td>\n",
       "      <td>pos</td>\n",
       "    </tr>\n",
       "    <tr>\n",
       "      <th>1</th>\n",
       "      <td>Life is Beautiful outside the Matrix.\\n\\nhttps...</td>\n",
       "      <td>Life is Beautiful outside the Matrix.\\n\\n</td>\n",
       "      <td>0.525000</td>\n",
       "      <td>{'neg': 0.0, 'neu': 0.562, 'pos': 0.438, 'comp...</td>\n",
       "      <td>0.5994</td>\n",
       "      <td>pos</td>\n",
       "    </tr>\n",
       "    <tr>\n",
       "      <th>2</th>\n",
       "      <td>Brotherhood is our most precious possession. h...</td>\n",
       "      <td>Brotherhood is our most precious possession.</td>\n",
       "      <td>0.750000</td>\n",
       "      <td>{'neg': 0.0, 'neu': 0.556, 'pos': 0.444, 'comp...</td>\n",
       "      <td>0.6115</td>\n",
       "      <td>pos</td>\n",
       "    </tr>\n",
       "    <tr>\n",
       "      <th>3</th>\n",
       "      <td>As soon as you are granted life,\\n\\nYou are gu...</td>\n",
       "      <td>As soon as you are granted life,\\n\\nYou are gu...</td>\n",
       "      <td>0.000000</td>\n",
       "      <td>{'neg': 0.144, 'neu': 0.704, 'pos': 0.152, 'co...</td>\n",
       "      <td>-0.2023</td>\n",
       "      <td>neg</td>\n",
       "    </tr>\n",
       "    <tr>\n",
       "      <th>4</th>\n",
       "      <td>Rules are for the Poor. https://t.co/Ln50iVJL7Z</td>\n",
       "      <td>Rules are for the Poor.</td>\n",
       "      <td>0.600000</td>\n",
       "      <td>{'neg': 0.437, 'neu': 0.563, 'pos': 0.0, 'comp...</td>\n",
       "      <td>-0.4767</td>\n",
       "      <td>neg</td>\n",
       "    </tr>\n",
       "  </tbody>\n",
       "</table>\n",
       "</div>"
      ],
      "text/plain": [
       "                                              Tweets  \\\n",
       "0  Life’s simple. You make choices and you don’t ...   \n",
       "1  Life is Beautiful outside the Matrix.\\n\\nhttps...   \n",
       "2  Brotherhood is our most precious possession. h...   \n",
       "3  As soon as you are granted life,\\n\\nYou are gu...   \n",
       "4    Rules are for the Poor. https://t.co/Ln50iVJL7Z   \n",
       "\n",
       "                                               Tweet  Subjectivity  \\\n",
       "0  Life’s simple. You make choices and you don’t ...      0.178571   \n",
       "1         Life is Beautiful outside the Matrix.\\n\\n       0.525000   \n",
       "2      Brotherhood is our most precious possession.       0.750000   \n",
       "3  As soon as you are granted life,\\n\\nYou are gu...      0.000000   \n",
       "4                           Rules are for the Poor.       0.600000   \n",
       "\n",
       "                                            Polarity  Compound comp_score  \n",
       "0  {'neg': 0.0, 'neu': 1.0, 'pos': 0.0, 'compound...    0.0000        pos  \n",
       "1  {'neg': 0.0, 'neu': 0.562, 'pos': 0.438, 'comp...    0.5994        pos  \n",
       "2  {'neg': 0.0, 'neu': 0.556, 'pos': 0.444, 'comp...    0.6115        pos  \n",
       "3  {'neg': 0.144, 'neu': 0.704, 'pos': 0.152, 'co...   -0.2023        neg  \n",
       "4  {'neg': 0.437, 'neu': 0.563, 'pos': 0.0, 'comp...   -0.4767        neg  "
      ]
     },
     "execution_count": 150,
     "metadata": {},
     "output_type": "execute_result"
    }
   ],
   "source": [
    "df['comp_score'] = df['Compound'].apply(lambda c: 'pos' if c>=0 else 'neg')\n",
    "df.head()"
   ]
  },
  {
   "cell_type": "code",
   "execution_count": 151,
   "id": "a129d546",
   "metadata": {},
   "outputs": [
    {
     "data": {
      "text/html": [
       "<div>\n",
       "<style scoped>\n",
       "    .dataframe tbody tr th:only-of-type {\n",
       "        vertical-align: middle;\n",
       "    }\n",
       "\n",
       "    .dataframe tbody tr th {\n",
       "        vertical-align: top;\n",
       "    }\n",
       "\n",
       "    .dataframe thead th {\n",
       "        text-align: right;\n",
       "    }\n",
       "</style>\n",
       "<table border=\"1\" class=\"dataframe\">\n",
       "  <thead>\n",
       "    <tr style=\"text-align: right;\">\n",
       "      <th></th>\n",
       "      <th>Tweets</th>\n",
       "      <th>Tweet</th>\n",
       "      <th>Subjectivity</th>\n",
       "      <th>Polarity</th>\n",
       "      <th>Compound</th>\n",
       "      <th>comp_score</th>\n",
       "      <th>neg_score</th>\n",
       "    </tr>\n",
       "  </thead>\n",
       "  <tbody>\n",
       "    <tr>\n",
       "      <th>0</th>\n",
       "      <td>Life’s simple. You make choices and you don’t ...</td>\n",
       "      <td>Life’s simple. You make choices and you don’t ...</td>\n",
       "      <td>0.178571</td>\n",
       "      <td>{'neg': 0.0, 'neu': 1.0, 'pos': 0.0, 'compound...</td>\n",
       "      <td>0.0000</td>\n",
       "      <td>pos</td>\n",
       "      <td>0.000</td>\n",
       "    </tr>\n",
       "    <tr>\n",
       "      <th>1</th>\n",
       "      <td>Life is Beautiful outside the Matrix.\\n\\nhttps...</td>\n",
       "      <td>Life is Beautiful outside the Matrix.\\n\\n</td>\n",
       "      <td>0.525000</td>\n",
       "      <td>{'neg': 0.0, 'neu': 0.562, 'pos': 0.438, 'comp...</td>\n",
       "      <td>0.5994</td>\n",
       "      <td>pos</td>\n",
       "      <td>0.000</td>\n",
       "    </tr>\n",
       "    <tr>\n",
       "      <th>2</th>\n",
       "      <td>Brotherhood is our most precious possession. h...</td>\n",
       "      <td>Brotherhood is our most precious possession.</td>\n",
       "      <td>0.750000</td>\n",
       "      <td>{'neg': 0.0, 'neu': 0.556, 'pos': 0.444, 'comp...</td>\n",
       "      <td>0.6115</td>\n",
       "      <td>pos</td>\n",
       "      <td>0.000</td>\n",
       "    </tr>\n",
       "    <tr>\n",
       "      <th>3</th>\n",
       "      <td>As soon as you are granted life,\\n\\nYou are gu...</td>\n",
       "      <td>As soon as you are granted life,\\n\\nYou are gu...</td>\n",
       "      <td>0.000000</td>\n",
       "      <td>{'neg': 0.144, 'neu': 0.704, 'pos': 0.152, 'co...</td>\n",
       "      <td>-0.2023</td>\n",
       "      <td>neg</td>\n",
       "      <td>0.144</td>\n",
       "    </tr>\n",
       "    <tr>\n",
       "      <th>4</th>\n",
       "      <td>Rules are for the Poor. https://t.co/Ln50iVJL7Z</td>\n",
       "      <td>Rules are for the Poor.</td>\n",
       "      <td>0.600000</td>\n",
       "      <td>{'neg': 0.437, 'neu': 0.563, 'pos': 0.0, 'comp...</td>\n",
       "      <td>-0.4767</td>\n",
       "      <td>neg</td>\n",
       "      <td>0.437</td>\n",
       "    </tr>\n",
       "  </tbody>\n",
       "</table>\n",
       "</div>"
      ],
      "text/plain": [
       "                                              Tweets  \\\n",
       "0  Life’s simple. You make choices and you don’t ...   \n",
       "1  Life is Beautiful outside the Matrix.\\n\\nhttps...   \n",
       "2  Brotherhood is our most precious possession. h...   \n",
       "3  As soon as you are granted life,\\n\\nYou are gu...   \n",
       "4    Rules are for the Poor. https://t.co/Ln50iVJL7Z   \n",
       "\n",
       "                                               Tweet  Subjectivity  \\\n",
       "0  Life’s simple. You make choices and you don’t ...      0.178571   \n",
       "1         Life is Beautiful outside the Matrix.\\n\\n       0.525000   \n",
       "2      Brotherhood is our most precious possession.       0.750000   \n",
       "3  As soon as you are granted life,\\n\\nYou are gu...      0.000000   \n",
       "4                           Rules are for the Poor.       0.600000   \n",
       "\n",
       "                                            Polarity  Compound comp_score  \\\n",
       "0  {'neg': 0.0, 'neu': 1.0, 'pos': 0.0, 'compound...    0.0000        pos   \n",
       "1  {'neg': 0.0, 'neu': 0.562, 'pos': 0.438, 'comp...    0.5994        pos   \n",
       "2  {'neg': 0.0, 'neu': 0.556, 'pos': 0.444, 'comp...    0.6115        pos   \n",
       "3  {'neg': 0.144, 'neu': 0.704, 'pos': 0.152, 'co...   -0.2023        neg   \n",
       "4  {'neg': 0.437, 'neu': 0.563, 'pos': 0.0, 'comp...   -0.4767        neg   \n",
       "\n",
       "   neg_score  \n",
       "0      0.000  \n",
       "1      0.000  \n",
       "2      0.000  \n",
       "3      0.144  \n",
       "4      0.437  "
      ]
     },
     "execution_count": 151,
     "metadata": {},
     "output_type": "execute_result"
    }
   ],
   "source": [
    "df['neg_score'] = df['Polarity'].apply(lambda score_dict: score_dict['neg'])\n",
    "df.head()"
   ]
  },
  {
   "cell_type": "code",
   "execution_count": 152,
   "id": "274798b8",
   "metadata": {},
   "outputs": [
    {
     "data": {
      "text/html": [
       "<div>\n",
       "<style scoped>\n",
       "    .dataframe tbody tr th:only-of-type {\n",
       "        vertical-align: middle;\n",
       "    }\n",
       "\n",
       "    .dataframe tbody tr th {\n",
       "        vertical-align: top;\n",
       "    }\n",
       "\n",
       "    .dataframe thead th {\n",
       "        text-align: right;\n",
       "    }\n",
       "</style>\n",
       "<table border=\"1\" class=\"dataframe\">\n",
       "  <thead>\n",
       "    <tr style=\"text-align: right;\">\n",
       "      <th></th>\n",
       "      <th>Tweets</th>\n",
       "      <th>Tweet</th>\n",
       "      <th>Subjectivity</th>\n",
       "      <th>Polarity</th>\n",
       "      <th>Compound</th>\n",
       "      <th>comp_score</th>\n",
       "      <th>neg_score</th>\n",
       "      <th>pos_score</th>\n",
       "    </tr>\n",
       "  </thead>\n",
       "  <tbody>\n",
       "    <tr>\n",
       "      <th>0</th>\n",
       "      <td>Life’s simple. You make choices and you don’t ...</td>\n",
       "      <td>Life’s simple. You make choices and you don’t ...</td>\n",
       "      <td>0.178571</td>\n",
       "      <td>{'neg': 0.0, 'neu': 1.0, 'pos': 0.0, 'compound...</td>\n",
       "      <td>0.0000</td>\n",
       "      <td>pos</td>\n",
       "      <td>0.000</td>\n",
       "      <td>0.000</td>\n",
       "    </tr>\n",
       "    <tr>\n",
       "      <th>1</th>\n",
       "      <td>Life is Beautiful outside the Matrix.\\n\\nhttps...</td>\n",
       "      <td>Life is Beautiful outside the Matrix.\\n\\n</td>\n",
       "      <td>0.525000</td>\n",
       "      <td>{'neg': 0.0, 'neu': 0.562, 'pos': 0.438, 'comp...</td>\n",
       "      <td>0.5994</td>\n",
       "      <td>pos</td>\n",
       "      <td>0.000</td>\n",
       "      <td>0.438</td>\n",
       "    </tr>\n",
       "    <tr>\n",
       "      <th>2</th>\n",
       "      <td>Brotherhood is our most precious possession. h...</td>\n",
       "      <td>Brotherhood is our most precious possession.</td>\n",
       "      <td>0.750000</td>\n",
       "      <td>{'neg': 0.0, 'neu': 0.556, 'pos': 0.444, 'comp...</td>\n",
       "      <td>0.6115</td>\n",
       "      <td>pos</td>\n",
       "      <td>0.000</td>\n",
       "      <td>0.444</td>\n",
       "    </tr>\n",
       "    <tr>\n",
       "      <th>3</th>\n",
       "      <td>As soon as you are granted life,\\n\\nYou are gu...</td>\n",
       "      <td>As soon as you are granted life,\\n\\nYou are gu...</td>\n",
       "      <td>0.000000</td>\n",
       "      <td>{'neg': 0.144, 'neu': 0.704, 'pos': 0.152, 'co...</td>\n",
       "      <td>-0.2023</td>\n",
       "      <td>neg</td>\n",
       "      <td>0.144</td>\n",
       "      <td>0.152</td>\n",
       "    </tr>\n",
       "    <tr>\n",
       "      <th>4</th>\n",
       "      <td>Rules are for the Poor. https://t.co/Ln50iVJL7Z</td>\n",
       "      <td>Rules are for the Poor.</td>\n",
       "      <td>0.600000</td>\n",
       "      <td>{'neg': 0.437, 'neu': 0.563, 'pos': 0.0, 'comp...</td>\n",
       "      <td>-0.4767</td>\n",
       "      <td>neg</td>\n",
       "      <td>0.437</td>\n",
       "      <td>0.000</td>\n",
       "    </tr>\n",
       "  </tbody>\n",
       "</table>\n",
       "</div>"
      ],
      "text/plain": [
       "                                              Tweets  \\\n",
       "0  Life’s simple. You make choices and you don’t ...   \n",
       "1  Life is Beautiful outside the Matrix.\\n\\nhttps...   \n",
       "2  Brotherhood is our most precious possession. h...   \n",
       "3  As soon as you are granted life,\\n\\nYou are gu...   \n",
       "4    Rules are for the Poor. https://t.co/Ln50iVJL7Z   \n",
       "\n",
       "                                               Tweet  Subjectivity  \\\n",
       "0  Life’s simple. You make choices and you don’t ...      0.178571   \n",
       "1         Life is Beautiful outside the Matrix.\\n\\n       0.525000   \n",
       "2      Brotherhood is our most precious possession.       0.750000   \n",
       "3  As soon as you are granted life,\\n\\nYou are gu...      0.000000   \n",
       "4                           Rules are for the Poor.       0.600000   \n",
       "\n",
       "                                            Polarity  Compound comp_score  \\\n",
       "0  {'neg': 0.0, 'neu': 1.0, 'pos': 0.0, 'compound...    0.0000        pos   \n",
       "1  {'neg': 0.0, 'neu': 0.562, 'pos': 0.438, 'comp...    0.5994        pos   \n",
       "2  {'neg': 0.0, 'neu': 0.556, 'pos': 0.444, 'comp...    0.6115        pos   \n",
       "3  {'neg': 0.144, 'neu': 0.704, 'pos': 0.152, 'co...   -0.2023        neg   \n",
       "4  {'neg': 0.437, 'neu': 0.563, 'pos': 0.0, 'comp...   -0.4767        neg   \n",
       "\n",
       "   neg_score  pos_score  \n",
       "0      0.000      0.000  \n",
       "1      0.000      0.438  \n",
       "2      0.000      0.444  \n",
       "3      0.144      0.152  \n",
       "4      0.437      0.000  "
      ]
     },
     "execution_count": 152,
     "metadata": {},
     "output_type": "execute_result"
    }
   ],
   "source": [
    "df['pos_score'] = df['Polarity'].apply(lambda score_dict: score_dict['pos'])\n",
    "df.head()"
   ]
  },
  {
   "cell_type": "code",
   "execution_count": 153,
   "id": "681499ac",
   "metadata": {},
   "outputs": [
    {
     "data": {
      "text/html": [
       "<div>\n",
       "<style scoped>\n",
       "    .dataframe tbody tr th:only-of-type {\n",
       "        vertical-align: middle;\n",
       "    }\n",
       "\n",
       "    .dataframe tbody tr th {\n",
       "        vertical-align: top;\n",
       "    }\n",
       "\n",
       "    .dataframe thead th {\n",
       "        text-align: right;\n",
       "    }\n",
       "</style>\n",
       "<table border=\"1\" class=\"dataframe\">\n",
       "  <thead>\n",
       "    <tr style=\"text-align: right;\">\n",
       "      <th></th>\n",
       "      <th>Tweets</th>\n",
       "      <th>Tweet</th>\n",
       "      <th>Subjectivity</th>\n",
       "      <th>Polarity</th>\n",
       "      <th>Compound</th>\n",
       "      <th>comp_score</th>\n",
       "      <th>neg_score</th>\n",
       "      <th>pos_score</th>\n",
       "      <th>neu_score</th>\n",
       "    </tr>\n",
       "  </thead>\n",
       "  <tbody>\n",
       "    <tr>\n",
       "      <th>0</th>\n",
       "      <td>Life’s simple. You make choices and you don’t ...</td>\n",
       "      <td>Life’s simple. You make choices and you don’t ...</td>\n",
       "      <td>0.178571</td>\n",
       "      <td>{'neg': 0.0, 'neu': 1.0, 'pos': 0.0, 'compound...</td>\n",
       "      <td>0.0000</td>\n",
       "      <td>pos</td>\n",
       "      <td>0.000</td>\n",
       "      <td>0.000</td>\n",
       "      <td>1.000</td>\n",
       "    </tr>\n",
       "    <tr>\n",
       "      <th>1</th>\n",
       "      <td>Life is Beautiful outside the Matrix.\\n\\nhttps...</td>\n",
       "      <td>Life is Beautiful outside the Matrix.\\n\\n</td>\n",
       "      <td>0.525000</td>\n",
       "      <td>{'neg': 0.0, 'neu': 0.562, 'pos': 0.438, 'comp...</td>\n",
       "      <td>0.5994</td>\n",
       "      <td>pos</td>\n",
       "      <td>0.000</td>\n",
       "      <td>0.438</td>\n",
       "      <td>0.562</td>\n",
       "    </tr>\n",
       "    <tr>\n",
       "      <th>2</th>\n",
       "      <td>Brotherhood is our most precious possession. h...</td>\n",
       "      <td>Brotherhood is our most precious possession.</td>\n",
       "      <td>0.750000</td>\n",
       "      <td>{'neg': 0.0, 'neu': 0.556, 'pos': 0.444, 'comp...</td>\n",
       "      <td>0.6115</td>\n",
       "      <td>pos</td>\n",
       "      <td>0.000</td>\n",
       "      <td>0.444</td>\n",
       "      <td>0.556</td>\n",
       "    </tr>\n",
       "    <tr>\n",
       "      <th>3</th>\n",
       "      <td>As soon as you are granted life,\\n\\nYou are gu...</td>\n",
       "      <td>As soon as you are granted life,\\n\\nYou are gu...</td>\n",
       "      <td>0.000000</td>\n",
       "      <td>{'neg': 0.144, 'neu': 0.704, 'pos': 0.152, 'co...</td>\n",
       "      <td>-0.2023</td>\n",
       "      <td>neg</td>\n",
       "      <td>0.144</td>\n",
       "      <td>0.152</td>\n",
       "      <td>0.704</td>\n",
       "    </tr>\n",
       "    <tr>\n",
       "      <th>4</th>\n",
       "      <td>Rules are for the Poor. https://t.co/Ln50iVJL7Z</td>\n",
       "      <td>Rules are for the Poor.</td>\n",
       "      <td>0.600000</td>\n",
       "      <td>{'neg': 0.437, 'neu': 0.563, 'pos': 0.0, 'comp...</td>\n",
       "      <td>-0.4767</td>\n",
       "      <td>neg</td>\n",
       "      <td>0.437</td>\n",
       "      <td>0.000</td>\n",
       "      <td>0.563</td>\n",
       "    </tr>\n",
       "  </tbody>\n",
       "</table>\n",
       "</div>"
      ],
      "text/plain": [
       "                                              Tweets  \\\n",
       "0  Life’s simple. You make choices and you don’t ...   \n",
       "1  Life is Beautiful outside the Matrix.\\n\\nhttps...   \n",
       "2  Brotherhood is our most precious possession. h...   \n",
       "3  As soon as you are granted life,\\n\\nYou are gu...   \n",
       "4    Rules are for the Poor. https://t.co/Ln50iVJL7Z   \n",
       "\n",
       "                                               Tweet  Subjectivity  \\\n",
       "0  Life’s simple. You make choices and you don’t ...      0.178571   \n",
       "1         Life is Beautiful outside the Matrix.\\n\\n       0.525000   \n",
       "2      Brotherhood is our most precious possession.       0.750000   \n",
       "3  As soon as you are granted life,\\n\\nYou are gu...      0.000000   \n",
       "4                           Rules are for the Poor.       0.600000   \n",
       "\n",
       "                                            Polarity  Compound comp_score  \\\n",
       "0  {'neg': 0.0, 'neu': 1.0, 'pos': 0.0, 'compound...    0.0000        pos   \n",
       "1  {'neg': 0.0, 'neu': 0.562, 'pos': 0.438, 'comp...    0.5994        pos   \n",
       "2  {'neg': 0.0, 'neu': 0.556, 'pos': 0.444, 'comp...    0.6115        pos   \n",
       "3  {'neg': 0.144, 'neu': 0.704, 'pos': 0.152, 'co...   -0.2023        neg   \n",
       "4  {'neg': 0.437, 'neu': 0.563, 'pos': 0.0, 'comp...   -0.4767        neg   \n",
       "\n",
       "   neg_score  pos_score  neu_score  \n",
       "0      0.000      0.000      1.000  \n",
       "1      0.000      0.438      0.562  \n",
       "2      0.000      0.444      0.556  \n",
       "3      0.144      0.152      0.704  \n",
       "4      0.437      0.000      0.563  "
      ]
     },
     "execution_count": 153,
     "metadata": {},
     "output_type": "execute_result"
    }
   ],
   "source": [
    "df['neu_score'] = df['Polarity'].apply(lambda score_dict: score_dict['neu'])\n",
    "df.head()"
   ]
  },
  {
   "cell_type": "code",
   "execution_count": 154,
   "id": "785e7b46",
   "metadata": {
    "scrolled": true
   },
   "outputs": [
    {
     "data": {
      "text/plain": [
       "Tweets          0\n",
       "Tweet           0\n",
       "Subjectivity    0\n",
       "Polarity        0\n",
       "Compound        0\n",
       "comp_score      0\n",
       "neg_score       0\n",
       "pos_score       0\n",
       "neu_score       0\n",
       "dtype: int64"
      ]
     },
     "execution_count": 154,
     "metadata": {},
     "output_type": "execute_result"
    }
   ],
   "source": [
    "df.isnull().sum()"
   ]
  },
  {
   "cell_type": "markdown",
   "id": "f757530d",
   "metadata": {},
   "source": [
    "# Correlation"
   ]
  },
  {
   "cell_type": "code",
   "execution_count": 155,
   "id": "ce7aa517",
   "metadata": {},
   "outputs": [
    {
     "data": {
      "text/plain": [
       "<AxesSubplot:>"
      ]
     },
     "execution_count": 155,
     "metadata": {},
     "output_type": "execute_result"
    },
    {
     "data": {
      "image/png": "[encoded data removed]",
      "text/plain": [
       "<Figure size 1000x700 with 2 Axes>"
      ]
     },
     "metadata": {},
     "output_type": "display_data"
    }
   ],
   "source": [
    "sns.set(rc={'figure.figsize':(10,7)})\n",
    "sns.heatmap(df.corr(),annot=True,cmap='cubehelix')"
   ]
  },
  {
   "cell_type": "code",
   "execution_count": 156,
   "id": "bdd5b0fc",
   "metadata": {
    "scrolled": false
   },
   "outputs": [
    {
     "data": {
      "text/html": [
       "<div>\n",
       "<style scoped>\n",
       "    .dataframe tbody tr th:only-of-type {\n",
       "        vertical-align: middle;\n",
       "    }\n",
       "\n",
       "    .dataframe tbody tr th {\n",
       "        vertical-align: top;\n",
       "    }\n",
       "\n",
       "    .dataframe thead th {\n",
       "        text-align: right;\n",
       "    }\n",
       "</style>\n",
       "<table border=\"1\" class=\"dataframe\">\n",
       "  <thead>\n",
       "    <tr style=\"text-align: right;\">\n",
       "      <th></th>\n",
       "      <th>Subjectivity</th>\n",
       "      <th>Compound</th>\n",
       "      <th>neg_score</th>\n",
       "      <th>pos_score</th>\n",
       "      <th>neu_score</th>\n",
       "    </tr>\n",
       "  </thead>\n",
       "  <tbody>\n",
       "    <tr>\n",
       "      <th>Subjectivity</th>\n",
       "      <td>1.000000</td>\n",
       "      <td>0.233755</td>\n",
       "      <td>0.061993</td>\n",
       "      <td>0.342418</td>\n",
       "      <td>-0.375491</td>\n",
       "    </tr>\n",
       "    <tr>\n",
       "      <th>Compound</th>\n",
       "      <td>0.233755</td>\n",
       "      <td>1.000000</td>\n",
       "      <td>-0.713335</td>\n",
       "      <td>0.740878</td>\n",
       "      <td>-0.212714</td>\n",
       "    </tr>\n",
       "    <tr>\n",
       "      <th>neg_score</th>\n",
       "      <td>0.061993</td>\n",
       "      <td>-0.713335</td>\n",
       "      <td>1.000000</td>\n",
       "      <td>-0.321067</td>\n",
       "      <td>-0.397334</td>\n",
       "    </tr>\n",
       "    <tr>\n",
       "      <th>pos_score</th>\n",
       "      <td>0.342418</td>\n",
       "      <td>0.740878</td>\n",
       "      <td>-0.321067</td>\n",
       "      <td>1.000000</td>\n",
       "      <td>-0.741516</td>\n",
       "    </tr>\n",
       "    <tr>\n",
       "      <th>neu_score</th>\n",
       "      <td>-0.375491</td>\n",
       "      <td>-0.212714</td>\n",
       "      <td>-0.397334</td>\n",
       "      <td>-0.741516</td>\n",
       "      <td>1.000000</td>\n",
       "    </tr>\n",
       "  </tbody>\n",
       "</table>\n",
       "</div>"
      ],
      "text/plain": [
       "              Subjectivity  Compound  neg_score  pos_score  neu_score\n",
       "Subjectivity      1.000000  0.233755   0.061993   0.342418  -0.375491\n",
       "Compound          0.233755  1.000000  -0.713335   0.740878  -0.212714\n",
       "neg_score         0.061993 -0.713335   1.000000  -0.321067  -0.397334\n",
       "pos_score         0.342418  0.740878  -0.321067   1.000000  -0.741516\n",
       "neu_score        -0.375491 -0.212714  -0.397334  -0.741516   1.000000"
      ]
     },
     "execution_count": 156,
     "metadata": {},
     "output_type": "execute_result"
    }
   ],
   "source": [
    "df.corr()"
   ]
  },
  {
   "cell_type": "markdown",
   "id": "10675dd5",
   "metadata": {},
   "source": [
    "# <font color='green'>Visualization</font>"
   ]
  },
  {
   "cell_type": "markdown",
   "id": "f6842b92",
   "metadata": {},
   "source": [
    "## Compound score "
   ]
  },
  {
   "cell_type": "code",
   "execution_count": 157,
   "id": "d76446fd",
   "metadata": {
    "scrolled": true
   },
   "outputs": [
    {
     "data": {
      "text/plain": [
       "<AxesSubplot:xlabel='comp_score', ylabel='count'>"
      ]
     },
     "execution_count": 157,
     "metadata": {},
     "output_type": "execute_result"
    },
    {
     "data": {
      "image/png": "[encoded data removed]",
      "text/plain": [
       "<Figure size 1000x700 with 1 Axes>"
      ]
     },
     "metadata": {},
     "output_type": "display_data"
    }
   ],
   "source": [
    "sns.set(rc={'figure.figsize':(10,7)})\n",
    "sns.set_style('whitegrid')\n",
    "sns.countplot(x='comp_score',data=df,palette='viridis')"
   ]
  },
  {
   "cell_type": "markdown",
   "id": "6115e2bf",
   "metadata": {},
   "source": [
    "## Compound value"
   ]
  },
  {
   "cell_type": "code",
   "execution_count": 158,
   "id": "722f689b",
   "metadata": {
    "scrolled": true
   },
   "outputs": [
    {
     "data": {
      "text/plain": [
       "<AxesSubplot:xlabel='Compound', ylabel='count'>"
      ]
     },
     "execution_count": 158,
     "metadata": {},
     "output_type": "execute_result"
    },
    {
     "data": {
      "image/png": "[encoded data removed]",
      "text/plain": [
       "<Figure size 2000x1000 with 1 Axes>"
      ]
     },
     "metadata": {},
     "output_type": "display_data"
    }
   ],
   "source": [
    "sns.set(rc={'figure.figsize':(20,10)})\n",
    "sns.set_style('whitegrid')\n",
    "sns.countplot(x='Compound',data=df,palette='viridis')"
   ]
  },
  {
   "cell_type": "markdown",
   "id": "04366fe7",
   "metadata": {},
   "source": [
    "## Negative score"
   ]
  },
  {
   "cell_type": "code",
   "execution_count": 159,
   "id": "3309a4f6",
   "metadata": {
    "scrolled": true
   },
   "outputs": [
    {
     "data": {
      "text/plain": [
       "<AxesSubplot:xlabel='neg_score', ylabel='count'>"
      ]
     },
     "execution_count": 159,
     "metadata": {},
     "output_type": "execute_result"
    },
    {
     "data": {
      "image/png": "[encoded data removed]",
      "text/plain": [
       "<Figure size 1200x700 with 1 Axes>"
      ]
     },
     "metadata": {},
     "output_type": "display_data"
    }
   ],
   "source": [
    "sns.set(rc={'figure.figsize':(12,7)})\n",
    "sns.set_style('whitegrid')\n",
    "sns.countplot(x='neg_score',data=df,palette='viridis')"
   ]
  },
  {
   "cell_type": "markdown",
   "id": "bda996e3",
   "metadata": {},
   "source": [
    "## Positive score"
   ]
  },
  {
   "cell_type": "code",
   "execution_count": 160,
   "id": "0356f7ad",
   "metadata": {
    "scrolled": true
   },
   "outputs": [
    {
     "data": {
      "text/plain": [
       "<AxesSubplot:xlabel='pos_score', ylabel='count'>"
      ]
     },
     "execution_count": 160,
     "metadata": {},
     "output_type": "execute_result"
    },
    {
     "data": {
      "image/png": "[encoded data removed]",
      "text/plain": [
       "<Figure size 1500x800 with 1 Axes>"
      ]
     },
     "metadata": {},
     "output_type": "display_data"
    }
   ],
   "source": [
    "sns.set(rc={'figure.figsize':(15,8)})\n",
    "sns.set_style('whitegrid')\n",
    "sns.countplot(x='pos_score',data=df,palette='viridis')"
   ]
  },
  {
   "cell_type": "markdown",
   "id": "9391882b",
   "metadata": {},
   "source": [
    "## Neutral score"
   ]
  },
  {
   "cell_type": "code",
   "execution_count": 161,
   "id": "fb89d120",
   "metadata": {},
   "outputs": [
    {
     "data": {
      "text/plain": [
       "<AxesSubplot:xlabel='neu_score', ylabel='count'>"
      ]
     },
     "execution_count": 161,
     "metadata": {},
     "output_type": "execute_result"
    },
    {
     "data": {
      "image/png": "[encoded data removed]",
      "text/plain": [
       "<Figure size 2500x1000 with 1 Axes>"
      ]
     },
     "metadata": {},
     "output_type": "display_data"
    }
   ],
   "source": [
    "sns.set(rc={'figure.figsize':(25,10)})\n",
    "sns.set_style('whitegrid')\n",
    "sns.countplot(x='neu_score',data=df,palette='viridis')"
   ]
  },
  {
   "cell_type": "markdown",
   "id": "ac349712",
   "metadata": {},
   "source": [
    "## Subjectivity score "
   ]
  },
  {
   "cell_type": "code",
   "execution_count": 162,
   "id": "fd535b96",
   "metadata": {
    "scrolled": false
   },
   "outputs": [
    {
     "data": {
      "text/plain": [
       "<AxesSubplot:xlabel='Subjectivity', ylabel='count'>"
      ]
     },
     "execution_count": 162,
     "metadata": {},
     "output_type": "execute_result"
    },
    {
     "data": {
      "image/png": "[encoded data removed]",
      "text/plain": [
       "<Figure size 5000x1800 with 1 Axes>"
      ]
     },
     "metadata": {},
     "output_type": "display_data"
    }
   ],
   "source": [
    "sns.set(rc={'figure.figsize':(50,18)})\n",
    "sns.set_style('whitegrid')\n",
    "sns.countplot(x='Subjectivity',data=df,palette='Paired')"
   ]
  },
  {
   "cell_type": "markdown",
   "id": "87801f29",
   "metadata": {},
   "source": [
    "## Negative score and Compound score"
   ]
  },
  {
   "cell_type": "code",
   "execution_count": 163,
   "id": "aa62a2df",
   "metadata": {
    "scrolled": false
   },
   "outputs": [
    {
     "data": {
      "text/plain": [
       "<AxesSubplot:xlabel='neg_score', ylabel='count'>"
      ]
     },
     "execution_count": 163,
     "metadata": {},
     "output_type": "execute_result"
    },
    {
     "data": {
      "image/png": "[encoded data removed]",
      "text/plain": [
       "<Figure size 1400x700 with 1 Axes>"
      ]
     },
     "metadata": {},
     "output_type": "display_data"
    }
   ],
   "source": [
    "sns.set(rc={'figure.figsize':(14,7)})\n",
    "sns.set_style('whitegrid')\n",
    "sns.countplot(x='neg_score',hue='comp_score',data=df,palette='Paired_r')"
   ]
  },
  {
   "cell_type": "markdown",
   "id": "a8a420c8",
   "metadata": {},
   "source": [
    "## Positive score and Compound score"
   ]
  },
  {
   "cell_type": "code",
   "execution_count": 164,
   "id": "0d762088",
   "metadata": {
    "scrolled": true
   },
   "outputs": [
    {
     "data": {
      "text/plain": [
       "<AxesSubplot:xlabel='pos_score', ylabel='count'>"
      ]
     },
     "execution_count": 164,
     "metadata": {},
     "output_type": "execute_result"
    },
    {
     "data": {
      "image/png": "[encoded data removed]",
      "text/plain": [
       "<Figure size 2000x1000 with 1 Axes>"
      ]
     },
     "metadata": {},
     "output_type": "display_data"
    }
   ],
   "source": [
    "sns.set(rc={'figure.figsize':(20,10)})\n",
    "sns.set_style('whitegrid')\n",
    "sns.countplot(x='pos_score',hue='comp_score',data=df,palette='Paired')"
   ]
  },
  {
   "cell_type": "markdown",
   "id": "895bd851",
   "metadata": {},
   "source": [
    "## Neutral score and Compound score"
   ]
  },
  {
   "cell_type": "code",
   "execution_count": 165,
   "id": "2c607f7f",
   "metadata": {
    "scrolled": true
   },
   "outputs": [
    {
     "data": {
      "text/plain": [
       "<AxesSubplot:xlabel='neu_score', ylabel='count'>"
      ]
     },
     "execution_count": 165,
     "metadata": {},
     "output_type": "execute_result"
    },
    {
     "data": {
      "image/png": "[encoded data removed]",
      "text/plain": [
       "<Figure size 3000x1500 with 1 Axes>"
      ]
     },
     "metadata": {},
     "output_type": "display_data"
    }
   ],
   "source": [
    "sns.set(rc={'figure.figsize':(30,15)})\n",
    "sns.set_style('whitegrid')\n",
    "sns.countplot(x='neu_score',hue='comp_score',data=df,palette='Paired_r')"
   ]
  },
  {
   "cell_type": "markdown",
   "id": "e682ce3f",
   "metadata": {},
   "source": [
    "## Subjectivity score and Compound score"
   ]
  },
  {
   "cell_type": "code",
   "execution_count": 166,
   "id": "9794e320",
   "metadata": {
    "scrolled": true
   },
   "outputs": [
    {
     "data": {
      "text/plain": [
       "<AxesSubplot:xlabel='Subjectivity', ylabel='count'>"
      ]
     },
     "execution_count": 166,
     "metadata": {},
     "output_type": "execute_result"
    },
    {
     "data": {
      "image/png": "[encoded data removed]",
      "text/plain": [
       "<Figure size 5000x2000 with 1 Axes>"
      ]
     },
     "metadata": {},
     "output_type": "display_data"
    }
   ],
   "source": [
    "sns.set(rc={'figure.figsize':(50,20)})\n",
    "sns.set_style('whitegrid')\n",
    "sns.countplot(x='Subjectivity',hue='comp_score',data=df,palette='Paired')"
   ]
  },
  {
   "cell_type": "markdown",
   "id": "80c7b431",
   "metadata": {},
   "source": [
    "## Positive score and Negative score"
   ]
  },
  {
   "cell_type": "code",
   "execution_count": 167,
   "id": "85d2e3b3",
   "metadata": {},
   "outputs": [
    {
     "data": {
      "text/plain": [
       "<AxesSubplot:xlabel='pos_score', ylabel='neg_score'>"
      ]
     },
     "execution_count": 167,
     "metadata": {},
     "output_type": "execute_result"
    },
    {
     "data": {
      "image/png": "[encoded data removed]",
      "text/plain": [
       "<Figure size 1400x700 with 1 Axes>"
      ]
     },
     "metadata": {},
     "output_type": "display_data"
    }
   ],
   "source": [
    "sns.set(rc={'figure.figsize':(14,7)})\n",
    "sns.set_style('whitegrid')\n",
    "sns.lineplot( x='pos_score',\n",
    "            y='neg_score',\n",
    "            data=df,color='blue')"
   ]
  },
  {
   "cell_type": "code",
   "execution_count": 168,
   "id": "4a0bb138",
   "metadata": {
    "scrolled": false
   },
   "outputs": [
    {
     "data": {
      "text/html": [
       "<div>\n",
       "<style scoped>\n",
       "    .dataframe tbody tr th:only-of-type {\n",
       "        vertical-align: middle;\n",
       "    }\n",
       "\n",
       "    .dataframe tbody tr th {\n",
       "        vertical-align: top;\n",
       "    }\n",
       "\n",
       "    .dataframe thead th {\n",
       "        text-align: right;\n",
       "    }\n",
       "</style>\n",
       "<table border=\"1\" class=\"dataframe\">\n",
       "  <thead>\n",
       "    <tr style=\"text-align: right;\">\n",
       "      <th></th>\n",
       "      <th>Tweets</th>\n",
       "      <th>Tweet</th>\n",
       "      <th>Subjectivity</th>\n",
       "      <th>Polarity</th>\n",
       "      <th>Compound</th>\n",
       "      <th>comp_score</th>\n",
       "      <th>neg_score</th>\n",
       "      <th>pos_score</th>\n",
       "      <th>neu_score</th>\n",
       "    </tr>\n",
       "  </thead>\n",
       "  <tbody>\n",
       "    <tr>\n",
       "      <th>0</th>\n",
       "      <td>Life’s simple. You make choices and you don’t ...</td>\n",
       "      <td>Life’s simple. You make choices and you don’t ...</td>\n",
       "      <td>0.178571</td>\n",
       "      <td>{'neg': 0.0, 'neu': 1.0, 'pos': 0.0, 'compound...</td>\n",
       "      <td>0.0000</td>\n",
       "      <td>pos</td>\n",
       "      <td>0.000</td>\n",
       "      <td>0.000</td>\n",
       "      <td>1.000</td>\n",
       "    </tr>\n",
       "    <tr>\n",
       "      <th>1</th>\n",
       "      <td>Life is Beautiful outside the Matrix.\\n\\nhttps...</td>\n",
       "      <td>Life is Beautiful outside the Matrix.\\n\\n</td>\n",
       "      <td>0.525000</td>\n",
       "      <td>{'neg': 0.0, 'neu': 0.562, 'pos': 0.438, 'comp...</td>\n",
       "      <td>0.5994</td>\n",
       "      <td>pos</td>\n",
       "      <td>0.000</td>\n",
       "      <td>0.438</td>\n",
       "      <td>0.562</td>\n",
       "    </tr>\n",
       "    <tr>\n",
       "      <th>2</th>\n",
       "      <td>Brotherhood is our most precious possession. h...</td>\n",
       "      <td>Brotherhood is our most precious possession.</td>\n",
       "      <td>0.750000</td>\n",
       "      <td>{'neg': 0.0, 'neu': 0.556, 'pos': 0.444, 'comp...</td>\n",
       "      <td>0.6115</td>\n",
       "      <td>pos</td>\n",
       "      <td>0.000</td>\n",
       "      <td>0.444</td>\n",
       "      <td>0.556</td>\n",
       "    </tr>\n",
       "    <tr>\n",
       "      <th>3</th>\n",
       "      <td>As soon as you are granted life,\\n\\nYou are gu...</td>\n",
       "      <td>As soon as you are granted life,\\n\\nYou are gu...</td>\n",
       "      <td>0.000000</td>\n",
       "      <td>{'neg': 0.144, 'neu': 0.704, 'pos': 0.152, 'co...</td>\n",
       "      <td>-0.2023</td>\n",
       "      <td>neg</td>\n",
       "      <td>0.144</td>\n",
       "      <td>0.152</td>\n",
       "      <td>0.704</td>\n",
       "    </tr>\n",
       "    <tr>\n",
       "      <th>4</th>\n",
       "      <td>Rules are for the Poor. https://t.co/Ln50iVJL7Z</td>\n",
       "      <td>Rules are for the Poor.</td>\n",
       "      <td>0.600000</td>\n",
       "      <td>{'neg': 0.437, 'neu': 0.563, 'pos': 0.0, 'comp...</td>\n",
       "      <td>-0.4767</td>\n",
       "      <td>neg</td>\n",
       "      <td>0.437</td>\n",
       "      <td>0.000</td>\n",
       "      <td>0.563</td>\n",
       "    </tr>\n",
       "  </tbody>\n",
       "</table>\n",
       "</div>"
      ],
      "text/plain": [
       "                                              Tweets  \\\n",
       "0  Life’s simple. You make choices and you don’t ...   \n",
       "1  Life is Beautiful outside the Matrix.\\n\\nhttps...   \n",
       "2  Brotherhood is our most precious possession. h...   \n",
       "3  As soon as you are granted life,\\n\\nYou are gu...   \n",
       "4    Rules are for the Poor. https://t.co/Ln50iVJL7Z   \n",
       "\n",
       "                                               Tweet  Subjectivity  \\\n",
       "0  Life’s simple. You make choices and you don’t ...      0.178571   \n",
       "1         Life is Beautiful outside the Matrix.\\n\\n       0.525000   \n",
       "2      Brotherhood is our most precious possession.       0.750000   \n",
       "3  As soon as you are granted life,\\n\\nYou are gu...      0.000000   \n",
       "4                           Rules are for the Poor.       0.600000   \n",
       "\n",
       "                                            Polarity  Compound comp_score  \\\n",
       "0  {'neg': 0.0, 'neu': 1.0, 'pos': 0.0, 'compound...    0.0000        pos   \n",
       "1  {'neg': 0.0, 'neu': 0.562, 'pos': 0.438, 'comp...    0.5994        pos   \n",
       "2  {'neg': 0.0, 'neu': 0.556, 'pos': 0.444, 'comp...    0.6115        pos   \n",
       "3  {'neg': 0.144, 'neu': 0.704, 'pos': 0.152, 'co...   -0.2023        neg   \n",
       "4  {'neg': 0.437, 'neu': 0.563, 'pos': 0.0, 'comp...   -0.4767        neg   \n",
       "\n",
       "   neg_score  pos_score  neu_score  \n",
       "0      0.000      0.000      1.000  \n",
       "1      0.000      0.438      0.562  \n",
       "2      0.000      0.444      0.556  \n",
       "3      0.144      0.152      0.704  \n",
       "4      0.437      0.000      0.563  "
      ]
     },
     "execution_count": 168,
     "metadata": {},
     "output_type": "execute_result"
    }
   ],
   "source": [
    "df.head()"
   ]
  },
  {
   "cell_type": "markdown",
   "id": "be1bca69",
   "metadata": {},
   "source": [
    "# Machine Learning"
   ]
  },
  {
   "cell_type": "code",
   "execution_count": 169,
   "id": "c14690f6",
   "metadata": {},
   "outputs": [],
   "source": [
    "X = df['Tweet']\n",
    "y = df['comp_score']"
   ]
  },
  {
   "cell_type": "code",
   "execution_count": 170,
   "id": "25937d49",
   "metadata": {},
   "outputs": [],
   "source": [
    "from sklearn.model_selection import train_test_split"
   ]
  },
  {
   "cell_type": "code",
   "execution_count": 171,
   "id": "031cf150",
   "metadata": {},
   "outputs": [],
   "source": [
    "X_train,X_test,y_train,y_test = train_test_split(X,y,test_size=0.30,random_state=100)"
   ]
  },
  {
   "cell_type": "markdown",
   "id": "6d2d76be",
   "metadata": {},
   "source": [
    "# CountVectorizer"
   ]
  },
  {
   "cell_type": "code",
   "execution_count": 172,
   "id": "a2fa4381",
   "metadata": {},
   "outputs": [
    {
     "data": {
      "text/plain": [
       "<35x230 sparse matrix of type '<class 'numpy.int64'>'\n",
       "\twith 373 stored elements in Compressed Sparse Row format>"
      ]
     },
     "execution_count": 172,
     "metadata": {},
     "output_type": "execute_result"
    }
   ],
   "source": [
    "from sklearn.feature_extraction.text import CountVectorizer\n",
    "count_vect = CountVectorizer()\n",
    "X_train_counts = count_vect.fit_transform(X_train)\n",
    "X_train_counts"
   ]
  },
  {
   "cell_type": "markdown",
   "id": "70bce5bb",
   "metadata": {},
   "source": [
    "# (Documents,Features)"
   ]
  },
  {
   "cell_type": "code",
   "execution_count": 173,
   "id": "afd382d5",
   "metadata": {},
   "outputs": [
    {
     "data": {
      "text/plain": [
       "(35, 230)"
      ]
     },
     "execution_count": 173,
     "metadata": {},
     "output_type": "execute_result"
    }
   ],
   "source": [
    "X_train_counts.shape"
   ]
  },
  {
   "cell_type": "code",
   "execution_count": 174,
   "id": "57e77864",
   "metadata": {
    "scrolled": true
   },
   "outputs": [
    {
     "data": {
      "text/plain": [
       "['about',\n",
       " 'act',\n",
       " 'activities',\n",
       " 'activity',\n",
       " 'aft',\n",
       " 'air',\n",
       " 'also',\n",
       " 'always',\n",
       " 'am',\n",
       " 'amazed',\n",
       " 'an',\n",
       " 'and',\n",
       " 'andrew',\n",
       " 'anything',\n",
       " 'are',\n",
       " 'as',\n",
       " 'at',\n",
       " 'average',\n",
       " 'ban',\n",
       " 'be',\n",
       " 'beautiful',\n",
       " 'because',\n",
       " 'been',\n",
       " 'best',\n",
       " 'between',\n",
       " 'bold',\n",
       " 'bond',\n",
       " 'breathe',\n",
       " 'brotherhood',\n",
       " 'bugatti',\n",
       " 'built',\n",
       " 'but',\n",
       " 'by',\n",
       " 'called',\n",
       " 'can',\n",
       " 'captain',\n",
       " 'careful',\n",
       " 'changed',\n",
       " 'colour',\n",
       " 'conquer',\n",
       " 'control',\n",
       " 'cou',\n",
       " 'coward',\n",
       " 'da',\n",
       " 'daily',\n",
       " 'day',\n",
       " 'death',\n",
       " 'depres',\n",
       " 'depressed',\n",
       " 'devil',\n",
       " 'do',\n",
       " 'don',\n",
       " 'drive',\n",
       " 'duty',\n",
       " 'easy',\n",
       " 'else',\n",
       " 'empires',\n",
       " 'equal',\n",
       " 'every',\n",
       " 'everyone',\n",
       " 'facebook',\n",
       " 'fight',\n",
       " 'follow',\n",
       " 'for',\n",
       " 'free',\n",
       " 'from',\n",
       " 'fuck',\n",
       " 'future',\n",
       " 'genuinely',\n",
       " 'gives',\n",
       " 'giving',\n",
       " 'god',\n",
       " 'going',\n",
       " 'granted',\n",
       " 'great',\n",
       " 'groups',\n",
       " 'gt',\n",
       " 'guaranteed',\n",
       " 'hard',\n",
       " 'has',\n",
       " 'have',\n",
       " 'he',\n",
       " 'his',\n",
       " 'hold',\n",
       " 'homage',\n",
       " 'honing',\n",
       " 'hoping',\n",
       " 'how',\n",
       " 'humble',\n",
       " 'idea',\n",
       " 'if',\n",
       " 'impossible',\n",
       " 'improving',\n",
       " 'in',\n",
       " 'instead',\n",
       " 'is',\n",
       " 'it',\n",
       " 'james',\n",
       " 'judge',\n",
       " 'just',\n",
       " 'keeps',\n",
       " 'kept',\n",
       " 'know',\n",
       " 'last',\n",
       " 'let',\n",
       " 'life',\n",
       " 'live',\n",
       " 'lived',\n",
       " 'lone',\n",
       " 'losing',\n",
       " 'lots',\n",
       " 'loud',\n",
       " 'love',\n",
       " 'luxury',\n",
       " 'make',\n",
       " 'man',\n",
       " 'many',\n",
       " 'matrix',\n",
       " 'me',\n",
       " 'men',\n",
       " 'meta',\n",
       " 'mind',\n",
       " 'money',\n",
       " 'most',\n",
       " 'much',\n",
       " 'must',\n",
       " 'my',\n",
       " 'need',\n",
       " 'needs',\n",
       " 'never',\n",
       " 'new',\n",
       " 'news',\n",
       " 'no',\n",
       " 'not',\n",
       " 'now',\n",
       " 'of',\n",
       " 'okay',\n",
       " 'on',\n",
       " 'only',\n",
       " 'onto',\n",
       " 'option',\n",
       " 'or',\n",
       " 'otherwise',\n",
       " 'our',\n",
       " 'out',\n",
       " 'outside',\n",
       " 'pace',\n",
       " 'paranoid',\n",
       " 'past',\n",
       " 'peace',\n",
       " 'people',\n",
       " 'poor',\n",
       " 'possession',\n",
       " 'power',\n",
       " 'precious',\n",
       " 'professional',\n",
       " 're',\n",
       " 'ready',\n",
       " 'regardless',\n",
       " 'reminder',\n",
       " 'rest',\n",
       " 'returns',\n",
       " 'rules',\n",
       " 'said',\n",
       " 'say',\n",
       " 'secrets',\n",
       " 'service',\n",
       " 'ship',\n",
       " 'shower',\n",
       " 'sink',\n",
       " 'sitting',\n",
       " 'so',\n",
       " 'soon',\n",
       " 'spa',\n",
       " 'strong',\n",
       " 'success',\n",
       " 'such',\n",
       " 'sup',\n",
       " 'taken',\n",
       " 'talks',\n",
       " 'tate',\n",
       " 'taught',\n",
       " 'team',\n",
       " 'tenacity',\n",
       " 'terms',\n",
       " 'the',\n",
       " 'their',\n",
       " 'there',\n",
       " 'they',\n",
       " 'thing',\n",
       " 'thoughts',\n",
       " 'times',\n",
       " 'to',\n",
       " 'tomorrow',\n",
       " 'too',\n",
       " 'top',\n",
       " 'tough',\n",
       " 'train',\n",
       " 'tried',\n",
       " 'true',\n",
       " 'try',\n",
       " 'trying',\n",
       " 'two',\n",
       " 'up',\n",
       " 'used',\n",
       " 've',\n",
       " 'very',\n",
       " 'vision',\n",
       " 'wake',\n",
       " 'want',\n",
       " 'wanted',\n",
       " 'was',\n",
       " 'weak',\n",
       " 'well',\n",
       " 'what',\n",
       " 'when',\n",
       " 'who',\n",
       " 'whole',\n",
       " 'will',\n",
       " 'win',\n",
       " 'with',\n",
       " 'without',\n",
       " 'wolf',\n",
       " 'work',\n",
       " 'world',\n",
       " 'wudan',\n",
       " 'yesterday',\n",
       " 'you',\n",
       " 'your',\n",
       " 'yourself']"
      ]
     },
     "execution_count": 174,
     "metadata": {},
     "output_type": "execute_result"
    }
   ],
   "source": [
    "count_vect.get_feature_names()"
   ]
  },
  {
   "cell_type": "markdown",
   "id": "df6d79d4",
   "metadata": {},
   "source": [
    "# Transform Counts to Frequencies with Tf-IDF"
   ]
  },
  {
   "cell_type": "code",
   "execution_count": 175,
   "id": "f40a3b10",
   "metadata": {},
   "outputs": [
    {
     "data": {
      "text/plain": [
       "(35, 230)"
      ]
     },
     "execution_count": 175,
     "metadata": {},
     "output_type": "execute_result"
    }
   ],
   "source": [
    "from sklearn.feature_extraction.text import TfidfTransformer\n",
    "tfidf_transformer = TfidfTransformer()\n",
    "X_train_tfidf = tfidf_transformer.fit_transform(X_train_counts)\n",
    "X_train_tfidf.shape"
   ]
  },
  {
   "cell_type": "markdown",
   "id": "8fb4c278",
   "metadata": {},
   "source": [
    "# Tf-IDF Vectorizer"
   ]
  },
  {
   "cell_type": "code",
   "execution_count": 176,
   "id": "1bc1af78",
   "metadata": {},
   "outputs": [
    {
     "data": {
      "text/plain": [
       "(35, 230)"
      ]
     },
     "execution_count": 176,
     "metadata": {},
     "output_type": "execute_result"
    }
   ],
   "source": [
    "from sklearn.feature_extraction.text import TfidfVectorizer\n",
    "vectorizer = TfidfVectorizer()\n",
    "X_train_tfidf = vectorizer.fit_transform(X_train)\n",
    "X_train_tfidf.shape"
   ]
  },
  {
   "cell_type": "markdown",
   "id": "98c4d2c8",
   "metadata": {},
   "source": [
    "# Training a Classifier"
   ]
  },
  {
   "cell_type": "code",
   "execution_count": 177,
   "id": "e98b89c0",
   "metadata": {},
   "outputs": [
    {
     "data": {
      "text/plain": [
       "LinearSVC()"
      ]
     },
     "execution_count": 177,
     "metadata": {},
     "output_type": "execute_result"
    }
   ],
   "source": [
    "from sklearn.svm import LinearSVC\n",
    "clf = LinearSVC()\n",
    "clf.fit(X_train_tfidf,y_train)"
   ]
  },
  {
   "cell_type": "markdown",
   "id": "12e4ed3f",
   "metadata": {},
   "source": [
    "# Pipeline"
   ]
  },
  {
   "cell_type": "code",
   "execution_count": 178,
   "id": "ee9fe3f2",
   "metadata": {},
   "outputs": [
    {
     "data": {
      "text/plain": [
       "Pipeline(steps=[('tdidf', TfidfVectorizer()), ('clf', LinearSVC())])"
      ]
     },
     "execution_count": 178,
     "metadata": {},
     "output_type": "execute_result"
    }
   ],
   "source": [
    "from sklearn.pipeline import Pipeline\n",
    "text_clf = Pipeline([('tdidf',TfidfVectorizer()),('clf',LinearSVC()),])\n",
    "text_clf.fit(X_train,y_train)"
   ]
  },
  {
   "cell_type": "markdown",
   "id": "e57e29db",
   "metadata": {},
   "source": [
    "# Results"
   ]
  },
  {
   "cell_type": "code",
   "execution_count": 179,
   "id": "23f26e2d",
   "metadata": {},
   "outputs": [],
   "source": [
    "predictions = text_clf.predict(X_test)"
   ]
  },
  {
   "cell_type": "code",
   "execution_count": 180,
   "id": "ae269b7c",
   "metadata": {},
   "outputs": [],
   "source": [
    "from sklearn import metrics"
   ]
  },
  {
   "cell_type": "code",
   "execution_count": 181,
   "id": "17c646e1",
   "metadata": {},
   "outputs": [
    {
     "name": "stdout",
     "output_type": "stream",
     "text": [
      "[[0 6]\n",
      " [0 9]]\n"
     ]
    }
   ],
   "source": [
    "print(metrics.confusion_matrix(y_test,predictions))"
   ]
  },
  {
   "cell_type": "markdown",
   "id": "69fbbd8c",
   "metadata": {},
   "source": [
    "# Accuracy <font color='red'>75%</font>"
   ]
  },
  {
   "cell_type": "code",
   "execution_count": 182,
   "id": "84b53a3c",
   "metadata": {},
   "outputs": [
    {
     "data": {
      "text/plain": [
       "0.7499999999999999"
      ]
     },
     "execution_count": 182,
     "metadata": {},
     "output_type": "execute_result"
    }
   ],
   "source": [
    "metrics.f1_score(y_test, predictions, average='weighted', labels=np.unique(predictions))"
   ]
  },
  {
   "cell_type": "code",
   "execution_count": 183,
   "id": "2638588a",
   "metadata": {
    "scrolled": true
   },
   "outputs": [
    {
     "name": "stdout",
     "output_type": "stream",
     "text": [
      "              precision    recall  f1-score   support\n",
      "\n",
      "         neg       1.00      0.00      0.00         6\n",
      "         pos       0.60      1.00      0.75         9\n",
      "\n",
      "    accuracy                           0.60        15\n",
      "   macro avg       0.80      0.50      0.37        15\n",
      "weighted avg       0.76      0.60      0.45        15\n",
      "\n"
     ]
    }
   ],
   "source": [
    "print(metrics.classification_report(y_test,predictions,zero_division=1))"
   ]
  },
  {
   "cell_type": "code",
   "execution_count": null,
   "id": "cd32ae89",
   "metadata": {},
   "outputs": [],
   "source": []
  }
 ],
 "metadata": {
  "kernelspec": {
   "display_name": "Python 3 (ipykernel)",
   "language": "python",
   "name": "python3"
  },
  "language_info": {
   "codemirror_mode": {
    "name": "ipython",
    "version": 3
   },
   "file_extension": ".py",
   "mimetype": "text/x-python",
   "name": "python",
   "nbconvert_exporter": "python",
   "pygments_lexer": "ipython3",
   "version": "3.8.8"
  }
 },
 "nbformat": 4,
 "nbformat_minor": 5
}
